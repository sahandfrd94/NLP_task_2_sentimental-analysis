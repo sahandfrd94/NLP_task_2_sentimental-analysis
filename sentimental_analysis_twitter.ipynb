{
  "nbformat": 4,
  "nbformat_minor": 0,
  "metadata": {
    "colab": {
      "provenance": [],
      "gpuType": "T4",
      "authorship_tag": "ABX9TyNZwHmnzABCrQDMI7pm1Nfy",
      "include_colab_link": true
    },
    "kernelspec": {
      "name": "python3",
      "display_name": "Python 3"
    },
    "language_info": {
      "name": "python"
    },
    "accelerator": "GPU"
  },
  "cells": [
    {
      "cell_type": "markdown",
      "metadata": {
        "id": "view-in-github",
        "colab_type": "text"
      },
      "source": [
        "<a href=\"https://colab.research.google.com/github/sahandfrd94/NLP_task_2_sentimental-analysis/blob/main/sentimental_analysis_twitter.ipynb\" target=\"_parent\"><img src=\"https://colab.research.google.com/assets/colab-badge.svg\" alt=\"Open In Colab\"/></a>"
      ]
    },
    {
      "cell_type": "markdown",
      "source": [
        "#import dataset\n",
        "##Tweitter dataset"
      ],
      "metadata": {
        "id": "NAU3D36okoN9"
      }
    },
    {
      "cell_type": "code",
      "execution_count": null,
      "metadata": {
        "id": "RYP13TTFh48S"
      },
      "outputs": [],
      "source": [
        "!pip install -q kaggle\n",
        "from google.colab import files\n",
        "files.upload()\n",
        "!mkdir ~/.kaggle\n",
        "! cp kaggle.json ~/.kaggle/\n",
        "! chmod 600 ~/.kaggle/kaggle.json\n",
        "! kaggle datasets list\n",
        "!kaggle datasets download -d kazanova/sentiment140\n"
      ]
    },
    {
      "cell_type": "code",
      "source": [
        "! unzip -qx /content/sentiment140.zip"
      ],
      "metadata": {
        "id": "adCXFBQilTfN"
      },
      "execution_count": 2,
      "outputs": []
    }
  ]
}