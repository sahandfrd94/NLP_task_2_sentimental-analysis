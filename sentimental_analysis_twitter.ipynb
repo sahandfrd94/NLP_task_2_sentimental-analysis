{
  "nbformat": 4,
  "nbformat_minor": 0,
  "metadata": {
    "colab": {
      "provenance": [],
      "gpuType": "T4",
      "authorship_tag": "ABX9TyPUByCKu6SFhy0WZWBwpwRT",
      "include_colab_link": true
    },
    "kernelspec": {
      "name": "python3",
      "display_name": "Python 3"
    },
    "language_info": {
      "name": "python"
    },
    "accelerator": "GPU"
  },
  "cells": [
    {
      "cell_type": "markdown",
      "metadata": {
        "id": "view-in-github",
        "colab_type": "text"
      },
      "source": [
        "<a href=\"https://colab.research.google.com/github/sahandfrd94/NLP_task_2_sentimental-analysis/blob/main/sentimental_analysis_twitter.ipynb\" target=\"_parent\"><img src=\"https://colab.research.google.com/assets/colab-badge.svg\" alt=\"Open In Colab\"/></a>"
      ]
    },
    {
      "cell_type": "markdown",
      "source": [
        "#import dataset\n",
        "##Tweitter dataset"
      ],
      "metadata": {
        "id": "NAU3D36okoN9"
      }
    },
    {
      "cell_type": "code",
      "execution_count": null,
      "metadata": {
        "id": "RYP13TTFh48S"
      },
      "outputs": [],
      "source": [
        "!pip install -q kaggle\n",
        "from google.colab import files\n",
        "files.upload()\n",
        "!mkdir ~/.kaggle\n",
        "! cp kaggle.json ~/.kaggle/\n",
        "! chmod 600 ~/.kaggle/kaggle.json\n",
        "! kaggle datasets list\n",
        "!kaggle datasets download -d kazanova/sentiment140\n"
      ]
    },
    {
      "cell_type": "code",
      "source": [
        "! unzip -qx /content/sentiment140.zip"
      ],
      "metadata": {
        "id": "adCXFBQilTfN"
      },
      "execution_count": 2,
      "outputs": []
    },
    {
      "cell_type": "markdown",
      "source": [
        "#preprocessing data\n"
      ],
      "metadata": {
        "id": "jlkiCu0ql8q6"
      }
    },
    {
      "cell_type": "code",
      "source": [
        "!head -5 /content/training.1600000.processed.noemoticon.csv"
      ],
      "metadata": {
        "colab": {
          "base_uri": "https://localhost:8080/"
        },
        "id": "37Y9g9Z7mBVr",
        "outputId": "24946ba6-1966-4d1f-b8d5-a0c24b7e328e"
      },
      "execution_count": 4,
      "outputs": [
        {
          "output_type": "stream",
          "name": "stdout",
          "text": [
            "\"0\",\"1467810369\",\"Mon Apr 06 22:19:45 PDT 2009\",\"NO_QUERY\",\"_TheSpecialOne_\",\"@switchfoot http://twitpic.com/2y1zl - Awww, that's a bummer.  You shoulda got David Carr of Third Day to do it. ;D\"\n",
            "\"0\",\"1467810672\",\"Mon Apr 06 22:19:49 PDT 2009\",\"NO_QUERY\",\"scotthamilton\",\"is upset that he can't update his Facebook by texting it... and might cry as a result  School today also. Blah!\"\n",
            "\"0\",\"1467810917\",\"Mon Apr 06 22:19:53 PDT 2009\",\"NO_QUERY\",\"mattycus\",\"@Kenichan I dived many times for the ball. Managed to save 50%  The rest go out of bounds\"\n",
            "\"0\",\"1467811184\",\"Mon Apr 06 22:19:57 PDT 2009\",\"NO_QUERY\",\"ElleCTF\",\"my whole body feels itchy and like its on fire \"\n",
            "\"0\",\"1467811193\",\"Mon Apr 06 22:19:57 PDT 2009\",\"NO_QUERY\",\"Karoli\",\"@nationwideclass no, it's not behaving at all. i'm mad. why am i here? because I can't see you all over there. \"\n"
          ]
        }
      ]
    },
    {
      "cell_type": "code",
      "source": [
        "clm = ['target' , 'id number' , 'date and time' , 'query' ,'user', 'content']"
      ],
      "metadata": {
        "id": "RSb47GxBmGWB"
      },
      "execution_count": 5,
      "outputs": []
    },
    {
      "cell_type": "code",
      "source": [
        "import pandas as pd\n",
        "df = pd.read_csv('/content/training.1600000.processed.noemoticon.csv', names = clm , encoding='latin-1')\n",
        "df.head()"
      ],
      "metadata": {
        "colab": {
          "base_uri": "https://localhost:8080/",
          "height": 206
        },
        "id": "tcLHaap8mJmx",
        "outputId": "f76e117b-bed7-49be-9d22-c41ddb794e53"
      },
      "execution_count": 7,
      "outputs": [
        {
          "output_type": "execute_result",
          "data": {
            "text/plain": [
              "   target   id number                 date and time     query  \\\n",
              "0       0  1467810369  Mon Apr 06 22:19:45 PDT 2009  NO_QUERY   \n",
              "1       0  1467810672  Mon Apr 06 22:19:49 PDT 2009  NO_QUERY   \n",
              "2       0  1467810917  Mon Apr 06 22:19:53 PDT 2009  NO_QUERY   \n",
              "3       0  1467811184  Mon Apr 06 22:19:57 PDT 2009  NO_QUERY   \n",
              "4       0  1467811193  Mon Apr 06 22:19:57 PDT 2009  NO_QUERY   \n",
              "\n",
              "              user                                            content  \n",
              "0  _TheSpecialOne_  @switchfoot http://twitpic.com/2y1zl - Awww, t...  \n",
              "1    scotthamilton  is upset that he can't update his Facebook by ...  \n",
              "2         mattycus  @Kenichan I dived many times for the ball. Man...  \n",
              "3          ElleCTF    my whole body feels itchy and like its on fire   \n",
              "4           Karoli  @nationwideclass no, it's not behaving at all....  "
            ],
            "text/html": [
              "\n",
              "  <div id=\"df-5762d2ec-2063-470c-bcac-1219af6d6439\" class=\"colab-df-container\">\n",
              "    <div>\n",
              "<style scoped>\n",
              "    .dataframe tbody tr th:only-of-type {\n",
              "        vertical-align: middle;\n",
              "    }\n",
              "\n",
              "    .dataframe tbody tr th {\n",
              "        vertical-align: top;\n",
              "    }\n",
              "\n",
              "    .dataframe thead th {\n",
              "        text-align: right;\n",
              "    }\n",
              "</style>\n",
              "<table border=\"1\" class=\"dataframe\">\n",
              "  <thead>\n",
              "    <tr style=\"text-align: right;\">\n",
              "      <th></th>\n",
              "      <th>target</th>\n",
              "      <th>id number</th>\n",
              "      <th>date and time</th>\n",
              "      <th>query</th>\n",
              "      <th>user</th>\n",
              "      <th>content</th>\n",
              "    </tr>\n",
              "  </thead>\n",
              "  <tbody>\n",
              "    <tr>\n",
              "      <th>0</th>\n",
              "      <td>0</td>\n",
              "      <td>1467810369</td>\n",
              "      <td>Mon Apr 06 22:19:45 PDT 2009</td>\n",
              "      <td>NO_QUERY</td>\n",
              "      <td>_TheSpecialOne_</td>\n",
              "      <td>@switchfoot http://twitpic.com/2y1zl - Awww, t...</td>\n",
              "    </tr>\n",
              "    <tr>\n",
              "      <th>1</th>\n",
              "      <td>0</td>\n",
              "      <td>1467810672</td>\n",
              "      <td>Mon Apr 06 22:19:49 PDT 2009</td>\n",
              "      <td>NO_QUERY</td>\n",
              "      <td>scotthamilton</td>\n",
              "      <td>is upset that he can't update his Facebook by ...</td>\n",
              "    </tr>\n",
              "    <tr>\n",
              "      <th>2</th>\n",
              "      <td>0</td>\n",
              "      <td>1467810917</td>\n",
              "      <td>Mon Apr 06 22:19:53 PDT 2009</td>\n",
              "      <td>NO_QUERY</td>\n",
              "      <td>mattycus</td>\n",
              "      <td>@Kenichan I dived many times for the ball. Man...</td>\n",
              "    </tr>\n",
              "    <tr>\n",
              "      <th>3</th>\n",
              "      <td>0</td>\n",
              "      <td>1467811184</td>\n",
              "      <td>Mon Apr 06 22:19:57 PDT 2009</td>\n",
              "      <td>NO_QUERY</td>\n",
              "      <td>ElleCTF</td>\n",
              "      <td>my whole body feels itchy and like its on fire</td>\n",
              "    </tr>\n",
              "    <tr>\n",
              "      <th>4</th>\n",
              "      <td>0</td>\n",
              "      <td>1467811193</td>\n",
              "      <td>Mon Apr 06 22:19:57 PDT 2009</td>\n",
              "      <td>NO_QUERY</td>\n",
              "      <td>Karoli</td>\n",
              "      <td>@nationwideclass no, it's not behaving at all....</td>\n",
              "    </tr>\n",
              "  </tbody>\n",
              "</table>\n",
              "</div>\n",
              "    <div class=\"colab-df-buttons\">\n",
              "\n",
              "  <div class=\"colab-df-container\">\n",
              "    <button class=\"colab-df-convert\" onclick=\"convertToInteractive('df-5762d2ec-2063-470c-bcac-1219af6d6439')\"\n",
              "            title=\"Convert this dataframe to an interactive table.\"\n",
              "            style=\"display:none;\">\n",
              "\n",
              "  <svg xmlns=\"http://www.w3.org/2000/svg\" height=\"24px\" viewBox=\"0 -960 960 960\">\n",
              "    <path d=\"M120-120v-720h720v720H120Zm60-500h600v-160H180v160Zm220 220h160v-160H400v160Zm0 220h160v-160H400v160ZM180-400h160v-160H180v160Zm440 0h160v-160H620v160ZM180-180h160v-160H180v160Zm440 0h160v-160H620v160Z\"/>\n",
              "  </svg>\n",
              "    </button>\n",
              "\n",
              "  <style>\n",
              "    .colab-df-container {\n",
              "      display:flex;\n",
              "      gap: 12px;\n",
              "    }\n",
              "\n",
              "    .colab-df-convert {\n",
              "      background-color: #E8F0FE;\n",
              "      border: none;\n",
              "      border-radius: 50%;\n",
              "      cursor: pointer;\n",
              "      display: none;\n",
              "      fill: #1967D2;\n",
              "      height: 32px;\n",
              "      padding: 0 0 0 0;\n",
              "      width: 32px;\n",
              "    }\n",
              "\n",
              "    .colab-df-convert:hover {\n",
              "      background-color: #E2EBFA;\n",
              "      box-shadow: 0px 1px 2px rgba(60, 64, 67, 0.3), 0px 1px 3px 1px rgba(60, 64, 67, 0.15);\n",
              "      fill: #174EA6;\n",
              "    }\n",
              "\n",
              "    .colab-df-buttons div {\n",
              "      margin-bottom: 4px;\n",
              "    }\n",
              "\n",
              "    [theme=dark] .colab-df-convert {\n",
              "      background-color: #3B4455;\n",
              "      fill: #D2E3FC;\n",
              "    }\n",
              "\n",
              "    [theme=dark] .colab-df-convert:hover {\n",
              "      background-color: #434B5C;\n",
              "      box-shadow: 0px 1px 3px 1px rgba(0, 0, 0, 0.15);\n",
              "      filter: drop-shadow(0px 1px 2px rgba(0, 0, 0, 0.3));\n",
              "      fill: #FFFFFF;\n",
              "    }\n",
              "  </style>\n",
              "\n",
              "    <script>\n",
              "      const buttonEl =\n",
              "        document.querySelector('#df-5762d2ec-2063-470c-bcac-1219af6d6439 button.colab-df-convert');\n",
              "      buttonEl.style.display =\n",
              "        google.colab.kernel.accessAllowed ? 'block' : 'none';\n",
              "\n",
              "      async function convertToInteractive(key) {\n",
              "        const element = document.querySelector('#df-5762d2ec-2063-470c-bcac-1219af6d6439');\n",
              "        const dataTable =\n",
              "          await google.colab.kernel.invokeFunction('convertToInteractive',\n",
              "                                                    [key], {});\n",
              "        if (!dataTable) return;\n",
              "\n",
              "        const docLinkHtml = 'Like what you see? Visit the ' +\n",
              "          '<a target=\"_blank\" href=https://colab.research.google.com/notebooks/data_table.ipynb>data table notebook</a>'\n",
              "          + ' to learn more about interactive tables.';\n",
              "        element.innerHTML = '';\n",
              "        dataTable['output_type'] = 'display_data';\n",
              "        await google.colab.output.renderOutput(dataTable, element);\n",
              "        const docLink = document.createElement('div');\n",
              "        docLink.innerHTML = docLinkHtml;\n",
              "        element.appendChild(docLink);\n",
              "      }\n",
              "    </script>\n",
              "  </div>\n",
              "\n",
              "\n",
              "<div id=\"df-c9d0295f-ec38-4530-9046-3b0a72b8d871\">\n",
              "  <button class=\"colab-df-quickchart\" onclick=\"quickchart('df-c9d0295f-ec38-4530-9046-3b0a72b8d871')\"\n",
              "            title=\"Suggest charts\"\n",
              "            style=\"display:none;\">\n",
              "\n",
              "<svg xmlns=\"http://www.w3.org/2000/svg\" height=\"24px\"viewBox=\"0 0 24 24\"\n",
              "     width=\"24px\">\n",
              "    <g>\n",
              "        <path d=\"M19 3H5c-1.1 0-2 .9-2 2v14c0 1.1.9 2 2 2h14c1.1 0 2-.9 2-2V5c0-1.1-.9-2-2-2zM9 17H7v-7h2v7zm4 0h-2V7h2v10zm4 0h-2v-4h2v4z\"/>\n",
              "    </g>\n",
              "</svg>\n",
              "  </button>\n",
              "\n",
              "<style>\n",
              "  .colab-df-quickchart {\n",
              "      --bg-color: #E8F0FE;\n",
              "      --fill-color: #1967D2;\n",
              "      --hover-bg-color: #E2EBFA;\n",
              "      --hover-fill-color: #174EA6;\n",
              "      --disabled-fill-color: #AAA;\n",
              "      --disabled-bg-color: #DDD;\n",
              "  }\n",
              "\n",
              "  [theme=dark] .colab-df-quickchart {\n",
              "      --bg-color: #3B4455;\n",
              "      --fill-color: #D2E3FC;\n",
              "      --hover-bg-color: #434B5C;\n",
              "      --hover-fill-color: #FFFFFF;\n",
              "      --disabled-bg-color: #3B4455;\n",
              "      --disabled-fill-color: #666;\n",
              "  }\n",
              "\n",
              "  .colab-df-quickchart {\n",
              "    background-color: var(--bg-color);\n",
              "    border: none;\n",
              "    border-radius: 50%;\n",
              "    cursor: pointer;\n",
              "    display: none;\n",
              "    fill: var(--fill-color);\n",
              "    height: 32px;\n",
              "    padding: 0;\n",
              "    width: 32px;\n",
              "  }\n",
              "\n",
              "  .colab-df-quickchart:hover {\n",
              "    background-color: var(--hover-bg-color);\n",
              "    box-shadow: 0 1px 2px rgba(60, 64, 67, 0.3), 0 1px 3px 1px rgba(60, 64, 67, 0.15);\n",
              "    fill: var(--button-hover-fill-color);\n",
              "  }\n",
              "\n",
              "  .colab-df-quickchart-complete:disabled,\n",
              "  .colab-df-quickchart-complete:disabled:hover {\n",
              "    background-color: var(--disabled-bg-color);\n",
              "    fill: var(--disabled-fill-color);\n",
              "    box-shadow: none;\n",
              "  }\n",
              "\n",
              "  .colab-df-spinner {\n",
              "    border: 2px solid var(--fill-color);\n",
              "    border-color: transparent;\n",
              "    border-bottom-color: var(--fill-color);\n",
              "    animation:\n",
              "      spin 1s steps(1) infinite;\n",
              "  }\n",
              "\n",
              "  @keyframes spin {\n",
              "    0% {\n",
              "      border-color: transparent;\n",
              "      border-bottom-color: var(--fill-color);\n",
              "      border-left-color: var(--fill-color);\n",
              "    }\n",
              "    20% {\n",
              "      border-color: transparent;\n",
              "      border-left-color: var(--fill-color);\n",
              "      border-top-color: var(--fill-color);\n",
              "    }\n",
              "    30% {\n",
              "      border-color: transparent;\n",
              "      border-left-color: var(--fill-color);\n",
              "      border-top-color: var(--fill-color);\n",
              "      border-right-color: var(--fill-color);\n",
              "    }\n",
              "    40% {\n",
              "      border-color: transparent;\n",
              "      border-right-color: var(--fill-color);\n",
              "      border-top-color: var(--fill-color);\n",
              "    }\n",
              "    60% {\n",
              "      border-color: transparent;\n",
              "      border-right-color: var(--fill-color);\n",
              "    }\n",
              "    80% {\n",
              "      border-color: transparent;\n",
              "      border-right-color: var(--fill-color);\n",
              "      border-bottom-color: var(--fill-color);\n",
              "    }\n",
              "    90% {\n",
              "      border-color: transparent;\n",
              "      border-bottom-color: var(--fill-color);\n",
              "    }\n",
              "  }\n",
              "</style>\n",
              "\n",
              "  <script>\n",
              "    async function quickchart(key) {\n",
              "      const quickchartButtonEl =\n",
              "        document.querySelector('#' + key + ' button');\n",
              "      quickchartButtonEl.disabled = true;  // To prevent multiple clicks.\n",
              "      quickchartButtonEl.classList.add('colab-df-spinner');\n",
              "      try {\n",
              "        const charts = await google.colab.kernel.invokeFunction(\n",
              "            'suggestCharts', [key], {});\n",
              "      } catch (error) {\n",
              "        console.error('Error during call to suggestCharts:', error);\n",
              "      }\n",
              "      quickchartButtonEl.classList.remove('colab-df-spinner');\n",
              "      quickchartButtonEl.classList.add('colab-df-quickchart-complete');\n",
              "    }\n",
              "    (() => {\n",
              "      let quickchartButtonEl =\n",
              "        document.querySelector('#df-c9d0295f-ec38-4530-9046-3b0a72b8d871 button');\n",
              "      quickchartButtonEl.style.display =\n",
              "        google.colab.kernel.accessAllowed ? 'block' : 'none';\n",
              "    })();\n",
              "  </script>\n",
              "</div>\n",
              "    </div>\n",
              "  </div>\n"
            ]
          },
          "metadata": {},
          "execution_count": 7
        }
      ]
    },
    {
      "cell_type": "code",
      "source": [
        "df.info()"
      ],
      "metadata": {
        "colab": {
          "base_uri": "https://localhost:8080/"
        },
        "id": "uCEn5JTjmYRq",
        "outputId": "ceaa44e0-ab5f-4a19-d1e2-ede9d70e15dd"
      },
      "execution_count": 8,
      "outputs": [
        {
          "output_type": "stream",
          "name": "stdout",
          "text": [
            "<class 'pandas.core.frame.DataFrame'>\n",
            "RangeIndex: 1600000 entries, 0 to 1599999\n",
            "Data columns (total 6 columns):\n",
            " #   Column         Non-Null Count    Dtype \n",
            "---  ------         --------------    ----- \n",
            " 0   target         1600000 non-null  int64 \n",
            " 1   id number      1600000 non-null  int64 \n",
            " 2   date and time  1600000 non-null  object\n",
            " 3   query          1600000 non-null  object\n",
            " 4   user           1600000 non-null  object\n",
            " 5   content        1600000 non-null  object\n",
            "dtypes: int64(2), object(4)\n",
            "memory usage: 73.2+ MB\n"
          ]
        }
      ]
    },
    {
      "cell_type": "code",
      "source": [
        "df['target'].unique()"
      ],
      "metadata": {
        "colab": {
          "base_uri": "https://localhost:8080/"
        },
        "id": "in3RRC05mctR",
        "outputId": "6f39339c-7e50-4fe6-c978-b9f42505a5c0"
      },
      "execution_count": 9,
      "outputs": [
        {
          "output_type": "execute_result",
          "data": {
            "text/plain": [
              "array([0, 4])"
            ]
          },
          "metadata": {},
          "execution_count": 9
        }
      ]
    },
    {
      "cell_type": "code",
      "source": [
        "sentence = list(df['content'])\n",
        "label = df['target']\n",
        "label[label == 4] = 1"
      ],
      "metadata": {
        "colab": {
          "base_uri": "https://localhost:8080/"
        },
        "id": "rKV-NgjWmkWT",
        "outputId": "951d1851-4dab-486e-bafb-cbbe3dad0ae1"
      },
      "execution_count": 10,
      "outputs": [
        {
          "output_type": "stream",
          "name": "stderr",
          "text": [
            "<ipython-input-10-f855d4fad74e>:3: SettingWithCopyWarning: \n",
            "A value is trying to be set on a copy of a slice from a DataFrame\n",
            "\n",
            "See the caveats in the documentation: https://pandas.pydata.org/pandas-docs/stable/user_guide/indexing.html#returning-a-view-versus-a-copy\n",
            "  label[label == 4] = 1\n"
          ]
        }
      ]
    },
    {
      "cell_type": "markdown",
      "source": [
        "#create word embedding"
      ],
      "metadata": {
        "id": "0qYph1YUnCNJ"
      }
    },
    {
      "cell_type": "code",
      "source": [
        "vocab_size = 100000\n",
        "max_len = 32\n",
        "oov = '<oov>'\n",
        "from tensorflow.keras.preprocessing.text import Tokenizer\n",
        "tokenizer = Tokenizer(num_words = vocab_size , oov_token = oov)\n",
        "tokenizer.fit_on_texts(sentence)\n",
        "\n",
        "seq = tokenizer.texts_to_sequences(sentence)\n",
        "\n",
        "from tensorflow.keras.preprocessing.sequence import pad_sequences\n",
        "pad = pad_sequences(seq , maxlen = max_len ,\n",
        "                    padding='post',\n",
        "                    truncating = 'post'\n",
        ")\n"
      ],
      "metadata": {
        "id": "9-c9yAu-m9oR"
      },
      "execution_count": 12,
      "outputs": []
    },
    {
      "cell_type": "code",
      "source": [
        "#split train and test data\n",
        "from sklearn.model_selection import train_test_split\n",
        "x_train, x_test,y_train,y_test=train_test_split(pad, label ,\n",
        "                                                test_size = 0.2,random_state = 101)"
      ],
      "metadata": {
        "id": "QY4ZEIJynlkZ"
      },
      "execution_count": 13,
      "outputs": []
    },
    {
      "cell_type": "markdown",
      "source": [
        "LSTM"
      ],
      "metadata": {
        "id": "GjeJ6vMFoM0m"
      }
    },
    {
      "cell_type": "code",
      "source": [
        "\n",
        "from keras.models import Sequential\n",
        "from tensorflow.keras.layers import Dense,Embedding,LSTM,Dropout\n",
        "lstm = Sequential()\n",
        "lstm.add(Embedding(input_dim = vocab_size,output_dim=100,input_length = max_len))\n",
        "lstm.add(LSTM(128 ,return_sequences=True))\n",
        "lstm.add(LSTM(64))\n",
        "lstm.add(Dense(64,activation = 'relu'))\n",
        "lstm.add(Dropout(0.3))\n",
        "lstm.add(Dense(1,activation = 'sigmoid'))"
      ],
      "metadata": {
        "id": "PDaac1oUoLKp"
      },
      "execution_count": 15,
      "outputs": []
    },
    {
      "cell_type": "code",
      "source": [
        "lstm.compile(\n",
        "    loss = 'binary_crossentropy',\n",
        "    optimizer = 'adam',\n",
        "    metrics = ['accuracy']\n",
        ")"
      ],
      "metadata": {
        "id": "d-3tn9Y-pGoF"
      },
      "execution_count": 16,
      "outputs": []
    },
    {
      "cell_type": "code",
      "source": [
        "lstm.summary()"
      ],
      "metadata": {
        "id": "2iUCXEN8pJbL"
      },
      "execution_count": null,
      "outputs": []
    },
    {
      "cell_type": "code",
      "source": [
        "lstm.fit(\n",
        "    x_train,y_train,\n",
        "    epochs = 25,validation_data = [x_test,y_test],\n",
        "    verbose = 1\n",
        ")"
      ],
      "metadata": {
        "colab": {
          "base_uri": "https://localhost:8080/"
        },
        "id": "gehBOLTVpczU",
        "outputId": "5951ba87-bb1e-4a99-fcb5-f724bb5118ac"
      },
      "execution_count": 18,
      "outputs": [
        {
          "output_type": "stream",
          "name": "stdout",
          "text": [
            "Epoch 1/25\n",
            "40000/40000 [==============================] - 454s 11ms/step - loss: 0.4088 - accuracy: 0.8145 - val_loss: 0.3775 - val_accuracy: 0.8295\n",
            "Epoch 2/25\n",
            "40000/40000 [==============================] - 423s 11ms/step - loss: 0.3471 - accuracy: 0.8482 - val_loss: 0.3717 - val_accuracy: 0.8336\n",
            "Epoch 3/25\n",
            "40000/40000 [==============================] - 422s 11ms/step - loss: 0.3113 - accuracy: 0.8674 - val_loss: 0.3863 - val_accuracy: 0.8286\n",
            "Epoch 4/25\n",
            "40000/40000 [==============================] - 428s 11ms/step - loss: 0.2773 - accuracy: 0.8843 - val_loss: 0.4023 - val_accuracy: 0.8241\n",
            "Epoch 5/25\n",
            "40000/40000 [==============================] - 423s 11ms/step - loss: 0.2463 - accuracy: 0.8988 - val_loss: 0.4203 - val_accuracy: 0.8198\n",
            "Epoch 6/25\n",
            "40000/40000 [==============================] - 418s 10ms/step - loss: 0.2197 - accuracy: 0.9111 - val_loss: 0.4562 - val_accuracy: 0.8146\n",
            "Epoch 7/25\n",
            "40000/40000 [==============================] - 419s 10ms/step - loss: 0.1981 - accuracy: 0.9205 - val_loss: 0.4953 - val_accuracy: 0.8076\n",
            "Epoch 8/25\n",
            "40000/40000 [==============================] - 417s 10ms/step - loss: 0.1807 - accuracy: 0.9275 - val_loss: 0.5373 - val_accuracy: 0.8046\n",
            "Epoch 9/25\n",
            "40000/40000 [==============================] - 409s 10ms/step - loss: 0.1669 - accuracy: 0.9336 - val_loss: 0.5659 - val_accuracy: 0.7998\n",
            "Epoch 10/25\n",
            "40000/40000 [==============================] - 408s 10ms/step - loss: 0.1563 - accuracy: 0.9379 - val_loss: 0.6067 - val_accuracy: 0.7951\n",
            "Epoch 11/25\n",
            "40000/40000 [==============================] - 416s 10ms/step - loss: 0.1478 - accuracy: 0.9416 - val_loss: 0.6621 - val_accuracy: 0.7975\n",
            "Epoch 12/25\n",
            "40000/40000 [==============================] - 426s 11ms/step - loss: 0.1407 - accuracy: 0.9446 - val_loss: 0.6490 - val_accuracy: 0.7939\n",
            "Epoch 13/25\n",
            "40000/40000 [==============================] - 425s 11ms/step - loss: 0.1347 - accuracy: 0.9470 - val_loss: 0.6300 - val_accuracy: 0.7923\n",
            "Epoch 14/25\n",
            "40000/40000 [==============================] - 413s 10ms/step - loss: 0.1298 - accuracy: 0.9490 - val_loss: 0.6525 - val_accuracy: 0.7907\n",
            "Epoch 15/25\n",
            "40000/40000 [==============================] - 406s 10ms/step - loss: 0.1254 - accuracy: 0.9508 - val_loss: 0.7128 - val_accuracy: 0.7858\n",
            "Epoch 16/25\n",
            "40000/40000 [==============================] - 417s 10ms/step - loss: 0.1221 - accuracy: 0.9520 - val_loss: 0.7638 - val_accuracy: 0.7877\n",
            "Epoch 17/25\n",
            "40000/40000 [==============================] - 412s 10ms/step - loss: 0.1192 - accuracy: 0.9534 - val_loss: 0.7196 - val_accuracy: 0.7881\n",
            "Epoch 18/25\n",
            "40000/40000 [==============================] - 409s 10ms/step - loss: 0.1167 - accuracy: 0.9544 - val_loss: 0.6926 - val_accuracy: 0.7890\n",
            "Epoch 19/25\n",
            "40000/40000 [==============================] - 413s 10ms/step - loss: 0.1145 - accuracy: 0.9551 - val_loss: 0.7105 - val_accuracy: 0.7873\n",
            "Epoch 20/25\n",
            "40000/40000 [==============================] - 421s 11ms/step - loss: 0.1119 - accuracy: 0.9563 - val_loss: 0.7147 - val_accuracy: 0.7870\n",
            "Epoch 21/25\n",
            "40000/40000 [==============================] - 421s 11ms/step - loss: 0.1109 - accuracy: 0.9567 - val_loss: 0.7319 - val_accuracy: 0.7865\n",
            "Epoch 22/25\n",
            "40000/40000 [==============================] - 419s 10ms/step - loss: 0.1092 - accuracy: 0.9573 - val_loss: 0.7526 - val_accuracy: 0.7847\n",
            "Epoch 23/25\n",
            "40000/40000 [==============================] - 412s 10ms/step - loss: 0.1083 - accuracy: 0.9577 - val_loss: 0.7462 - val_accuracy: 0.7852\n",
            "Epoch 24/25\n",
            "40000/40000 [==============================] - 401s 10ms/step - loss: 0.1065 - accuracy: 0.9585 - val_loss: 0.7361 - val_accuracy: 0.7843\n",
            "Epoch 25/25\n",
            "40000/40000 [==============================] - 410s 10ms/step - loss: 0.1059 - accuracy: 0.9585 - val_loss: 0.7745 - val_accuracy: 0.7838\n"
          ]
        },
        {
          "output_type": "execute_result",
          "data": {
            "text/plain": [
              "<keras.src.callbacks.History at 0x7c1e501939a0>"
            ]
          },
          "metadata": {},
          "execution_count": 18
        }
      ]
    }
  ]
}